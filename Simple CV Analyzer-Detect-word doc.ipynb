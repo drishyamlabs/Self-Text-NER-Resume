{
 "cells": [
  {
   "cell_type": "code",
   "execution_count": 1,
   "metadata": {
    "collapsed": true
   },
   "outputs": [],
   "source": [
    "import spacy\n",
    "import json\n",
    "import random\n",
    "import logging\n",
    "from sklearn.metrics import classification_report\n",
    "from sklearn.metrics import precision_recall_fscore_support\n",
    "from spacy.gold import GoldParse\n",
    "from spacy.scorer import Scorer\n",
    "from sklearn.metrics import accuracy_score\n",
    "import itertools"
   ]
  },
  {
   "cell_type": "code",
   "execution_count": 2,
   "metadata": {
    "collapsed": true
   },
   "outputs": [],
   "source": [
    "nlp1 = spacy.load('my_model')"
   ]
  },
  {
   "cell_type": "code",
   "execution_count": 6,
   "metadata": {},
   "outputs": [],
   "source": [
    "import textract"
   ]
  },
  {
   "cell_type": "code",
   "execution_count": 16,
   "metadata": {},
   "outputs": [
    {
     "name": "stdout",
     "output_type": "stream",
     "text": [
      "b'ANGELA  WILKINSON\\n\\n\\n\\n      ANGELA  WILKINSON\\n\\n\\n\\n\\n\\nAWARD RECEIVED\\n\\norganization 2015\\n\\nAWARD RECEIVED\\n\\norganization 2015\\n\\nAWARDS\\n\\nAWARDS\\n\\nDEGREE NAME / MAJOR\\n\\nUniversity, Location 2006 - 2011\\n\\nDEGREE NAME / MAJOR\\n\\nUniversity, Location 2006 - 2011\\n\\nDEGREE NAME / MAJOR\\n\\nUniversity, Location 2007 - 2013\\n\\nDEGREE NAME / MAJOR\\n\\nUniversity, Location 2007 - 2013\\n\\nCERTIFICATION #1\\n\\nLocation, Date\\n\\nCERTIFICATION #1\\n\\nLocation, Date\\n\\nEDUCATION\\n\\nEDUCATION\\n\\nProblem Solving\\n\\nAdaptability\\n\\nCollaboration\\n\\nStrong Work Ethic\\n\\nTime Management\\n\\nCritical Thinking\\n\\nHandling Pressure\\n\\nLeadership\\n\\nProblem Solving\\n\\nAdaptability\\n\\nCollaboration\\n\\nStrong Work Ethic\\n\\nTime Management\\n\\nCritical Thinking\\n\\nHandling Pressure\\n\\nLeadership\\n\\nSKILLS\\n\\nSKILLS\\n\\n4397 Aaron Smith Drive\\nHarrisburg, PA 17101\\n\\n4397 Aaron Smith Drive\\nHarrisburg, PA 17101\\n\\nlinkedin.com/in/yourpro\\xef\\xac\\x81le\\n\\nlinkedin.com/in/yourpro\\xef\\xac\\x81le\\n\\n895 555 555\\n\\n895 555 555\\n\\nyouremail@gmail.com\\n\\nyouremail@gmail.com\\n\\nEXPERIENCE\\n\\nEXPERIENCE\\n\\nADMINISTRATIVE ASSISTANT\\n\\nRedford & Sons, Boston, MA  /  September 2016 - Present\\n\\nSchedule and coordinate meetings, appointments, and travel arrangements for supervisors and managers\\n\\nTrained 2 administrative assistants during a period of company expansion to ensure attention to detail and adherence to company policy\\n\\nDeveloped new filing and organizational practices, saving the company $3,000 per year in contracted labor expenses\\n\\nMaintain utmost discretion when dealing with sensitive topics\\n\\nManage travel and expense reports for department team members\\n\\nADMINISTRATIVE ASSISTANT\\n\\nRedford & Sons, Boston, MA  /  September 2016 - Present\\n\\nSchedule and coordinate meetings, appointments, and travel arrangements for supervisors and managers\\n\\nTrained 2 administrative assistants during a period of company expansion to ensure attention to detail and adherence to company policy\\n\\nDeveloped new filing and organizational practices, saving the company $3,000 per year in contracted labor expenses\\n\\nMaintain utmost discretion when dealing with sensitive topics\\n\\nManage travel and expense reports for department team members\\n\\nSECRETARY\\n\\nBright Spot LTD, Boston, MA  /  June 2013 \\xe2\\x80\\x93 August 2016\\n\\nType documents such as correspondence, drafts, memos, and emails, and prepared 3 reports weekly for management\\n\\nOpened, sorted, and distributed incoming messages and correspondence\\n\\nPurchased and maintained office supply inventories, and always careful to adhere to budgeting practices\\n\\nGreeted visitors and determined to whom and when they could speak with specific individuals\\n\\nRecorded, transcribed, and distributed minutes of meetings\\n\\nSECRETARY\\n\\nBright Spot LTD, Boston, MA  /  June 2013 \\xe2\\x80\\x93 August 2016\\n\\nType documents such as correspondence, drafts, memos, and emails, and prepared 3 reports weekly for management\\n\\nOpened, sorted, and distributed incoming messages and correspondence\\n\\nPurchased and maintained office supply inventories, and always careful to adhere to budgeting practices\\n\\nGreeted visitors and determined to whom and when they could speak with specific individuals\\n\\nRecorded, transcribed, and distributed minutes of meetings\\n\\nAdministrative Assistant with 6+ years of experience organizing presentations, preparing facility reports, and maintaining the utmost confidentiality. Possess a B.A. in History and expertise in Microsoft Excel. Looking to leverage my knowledge and experience into a role as Project Manager.\\n\\n\\n\\n\\n\\n\\n\\n\\n\\nAdministrative Assistant with 6+ years of experience organizing presentations, preparing facility reports, and maintaining the utmost confidentiality. Possess a B.A. in History and expertise in Microsoft Excel. Looking to leverage my knowledge and experience into a role as Project Manager.\\n\\n\\n\\n\\n\\n\\n\\n\\n\\nRESUME OBJECTIVE\\n\\nRESUME OBJECTIVE\\n\\n\\tADMINISTRATIVE ASSISTANT\\n\\n\\tADMINISTRATIVE ASSISTANT'\n"
     ]
    }
   ],
   "source": [
    "text = textract.process(\"Coporate-Resume-Template-Purple.docx\")\n",
    "print(text)\n",
    "text= text.decode(\"utf-8\")"
   ]
  },
  {
   "cell_type": "code",
   "execution_count": 3,
   "metadata": {
    "collapsed": true
   },
   "outputs": [],
   "source": [
    "with open('sample.txt', 'r',  encoding=\"utf8\") as file:\n",
    "    text = file.read()"
   ]
  },
  {
   "cell_type": "code",
   "execution_count": 17,
   "metadata": {},
   "outputs": [],
   "source": [
    "#test the model and evaluate it\n",
    "doc_to_test=nlp1(text)\n",
    "d={}\n",
    "\n",
    "for ent in doc_to_test.ents:\n",
    "    d[ent.label_]=[]\n",
    "for ent in doc_to_test.ents:\n",
    "    d[ent.label_].append(ent.text)\n",
    "for k, v in d.items():\n",
    "    v.sort()\n",
    "    d[k] = [item for item, _ in itertools.groupby(v)]"
   ]
  },
  {
   "cell_type": "code",
   "execution_count": 18,
   "metadata": {},
   "outputs": [
    {
     "data": {
      "text/plain": [
       "{'College Name': ['Handling Pressure'],\n",
       " 'Companies worked at': ['Microsoft'],\n",
       " 'Degree': ['Leadership', 'Problem Solving'],\n",
       " 'Designation': ['ADMINISTRATIVE ASSISTANT',\n",
       "  'Administrative Assistant',\n",
       "  'Project Manager'],\n",
       " 'Location': ['University'],\n",
       " 'Name': ['ANGELA  '],\n",
       " 'Years of Experience': ['6+ years']}"
      ]
     },
     "execution_count": 18,
     "metadata": {},
     "output_type": "execute_result"
    }
   ],
   "source": [
    "d"
   ]
  }
 ],
 "metadata": {
  "kernelspec": {
   "display_name": "Python 3",
   "language": "python",
   "name": "python3"
  },
  "language_info": {
   "codemirror_mode": {
    "name": "ipython",
    "version": 3
   },
   "file_extension": ".py",
   "mimetype": "text/x-python",
   "name": "python",
   "nbconvert_exporter": "python",
   "pygments_lexer": "ipython3",
   "version": "3.6.3"
  }
 },
 "nbformat": 4,
 "nbformat_minor": 2
}
