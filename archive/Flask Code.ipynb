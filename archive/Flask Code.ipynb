{
 "cells": [
  {
   "cell_type": "code",
   "execution_count": 6,
   "metadata": {},
   "outputs": [],
   "source": [
    "import flask\n",
    "import json, pickle\n",
    "import spacy\n",
    "import random\n",
    "import logging\n",
    "from sklearn.metrics import classification_report\n",
    "from sklearn.metrics import precision_recall_fscore_support\n",
    "from spacy.gold import GoldParse\n",
    "from spacy.scorer import Scorer\n",
    "from sklearn.metrics import accuracy_score\n",
    "import itertools"
   ]
  },
  {
   "cell_type": "code",
   "execution_count": 7,
   "metadata": {},
   "outputs": [],
   "source": [
    "# Use pickle to load in the pre-trained model.\n",
    "nlp1 = spacy.load('my_model')\n",
    "#app = flask.Flask(__name__, template_folder='templates')\n",
    "app = flask.Flask(__name__)"
   ]
  },
  {
   "cell_type": "code",
   "execution_count": null,
   "metadata": {
    "collapsed": true
   },
   "outputs": [],
   "source": [
    "@app.route('/', methods=['GET', 'POST'])\n",
    "def main():\n",
    "    if flask.request.method == 'GET':\n",
    "        return(flask.render_template('main.html'))\n",
    "    if flask.request.method == 'POST':\n",
    "        temperature = flask.request.form['temperature']\n",
    "        humidity = flask.request.form['humidity']\n",
    "        windspeed = flask.request.form['windspeed']\n",
    "        input_variables = pd.DataFrame([[temperature, humidity, windspeed]],\n",
    "                                       columns=['temperature', 'humidity', 'windspeed'],\n",
    "                                       dtype=float)\n",
    "        prediction = model.predict(input_variables)[0]\n",
    "        return flask.render_template('main.html',\n",
    "                                     original_input={'Temperature':temperature,\n",
    "                                                     'Humidity':humidity,\n",
    "                                                     'Windspeed':windspeed},\n",
    "                                     result=prediction,\n",
    "                                     )\n",
    "    \n",
    "\n",
    "\n",
    "\n",
    "def makecalc():\n",
    "\n",
    "\t\"\"\"\n",
    "\n",
    "\tFunction run at each API call\n",
    "\n",
    "\t\"\"\"\n",
    "\n",
    "\tjsonfile = request.get_json()\n",
    "\n",
    "\tdata = pd.read_json(json.dumps(jsonfile),orient='index',convert_dates=['dteday'])\n",
    "\n",
    "\tprint(data)\n",
    "\n",
    "\tres = dict()\n",
    "\n",
    "\typred = model.predict(doTheCalculation(data))\n",
    "\n",
    "\tfor i in range(len(ypred)):\n",
    "\n",
    "    \t    res[i] = ypred[i]\n",
    "\n",
    "    \n",
    "\n",
    "\treturn jsonify(res) \n",
    "\n",
    "if __name__ == '__main__':\n",
    "\n",
    "\tmodelfile = 'modelfile.pickle'    \n",
    "\n",
    "\tmodel = pickle.load(open(modelfile, 'rb'))\n",
    "\n",
    "\tprint(\"loaded OK\")\n",
    "\n",
    "\tapp.run(debug=True)\n"
   ]
  }
 ],
 "metadata": {
  "kernelspec": {
   "display_name": "Python 3",
   "language": "python",
   "name": "python3"
  },
  "language_info": {
   "codemirror_mode": {
    "name": "ipython",
    "version": 3
   },
   "file_extension": ".py",
   "mimetype": "text/x-python",
   "name": "python",
   "nbconvert_exporter": "python",
   "pygments_lexer": "ipython3",
   "version": "3.6.3"
  }
 },
 "nbformat": 4,
 "nbformat_minor": 2
}
